{
 "cells": [
  {
   "cell_type": "markdown",
   "metadata": {},
   "source": [
    "# Chapter 7\n",
    "\n",
    "## Solving Calculus Problems"
   ]
  },
  {
   "cell_type": "markdown",
   "metadata": {},
   "source": [
    "###  #1: Verify the Continuity of a Function at a Point"
   ]
  },
  {
   "cell_type": "code",
   "execution_count": 1,
   "metadata": {},
   "outputs": [
    {
     "name": "stdout",
     "output_type": "stream",
     "text": [
      "Enter a function of one variable: 1/x\n",
      "Enter the variable: x\n",
      "Enter the point to check the continuity at: 1\n",
      "1/x is continuous at 1.0\n"
     ]
    }
   ],
   "source": [
    "%run continuity.py"
   ]
  },
  {
   "cell_type": "code",
   "execution_count": 2,
   "metadata": {},
   "outputs": [
    {
     "name": "stdout",
     "output_type": "stream",
     "text": [
      "Enter a function of one variable: 1/x\n",
      "Enter the variable: x\n",
      "Enter the point to check the continuity at: 0\n",
      "1/x is not continuous at 0.0\n"
     ]
    }
   ],
   "source": [
    "%run continuity.py"
   ]
  },
  {
   "cell_type": "code",
   "execution_count": 3,
   "metadata": {
    "scrolled": true
   },
   "outputs": [
    {
     "name": "stdout",
     "output_type": "stream",
     "text": [
      "Enter a function of one variable: sin(x)/x\n",
      "Enter the variable: x\n",
      "Enter the point to check the continuity at: 1\n",
      "sin(x)/x is continuous at 1.0\n"
     ]
    }
   ],
   "source": [
    "%run continuity.py"
   ]
  },
  {
   "cell_type": "code",
   "execution_count": 4,
   "metadata": {},
   "outputs": [
    {
     "name": "stdout",
     "output_type": "stream",
     "text": [
      "Enter a function of one variable: sin(x)/x\n",
      "Enter the variable: x\n",
      "Enter the point to check the continuity at: 0\n",
      "sin(x)/x is not continuous at 0.0\n"
     ]
    }
   ],
   "source": [
    "%run continuity.py"
   ]
  },
  {
   "cell_type": "markdown",
   "metadata": {},
   "source": [
    "### #2: Implement the Gradient Descent "
   ]
  },
  {
   "cell_type": "code",
   "execution_count": null,
   "metadata": {},
   "outputs": [],
   "source": []
  },
  {
   "cell_type": "markdown",
   "metadata": {},
   "source": [
    "### #3: Area Between Two Curves "
   ]
  },
  {
   "cell_type": "code",
   "execution_count": null,
   "metadata": {},
   "outputs": [],
   "source": []
  },
  {
   "cell_type": "markdown",
   "metadata": {},
   "source": [
    "### #4: Finding the Length of a Curve "
   ]
  },
  {
   "cell_type": "code",
   "execution_count": null,
   "metadata": {},
   "outputs": [],
   "source": []
  }
 ],
 "metadata": {
  "kernelspec": {
   "display_name": "Python 3",
   "language": "python",
   "name": "python3"
  },
  "language_info": {
   "codemirror_mode": {
    "name": "ipython",
    "version": 3
   },
   "file_extension": ".py",
   "mimetype": "text/x-python",
   "name": "python",
   "nbconvert_exporter": "python",
   "pygments_lexer": "ipython3",
   "version": "3.6.5"
  }
 },
 "nbformat": 4,
 "nbformat_minor": 2
}
