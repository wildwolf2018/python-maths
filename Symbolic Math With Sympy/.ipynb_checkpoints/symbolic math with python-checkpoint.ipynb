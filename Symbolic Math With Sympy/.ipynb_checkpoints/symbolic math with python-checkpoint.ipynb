{
 "cells": [
  {
   "cell_type": "markdown",
   "metadata": {},
   "source": [
    "# Chapter 4 \n",
    "## Symbolic Math With Python\n",
    "### *Exercise 1 - Finding factors* "
   ]
  },
  {
   "cell_type": "code",
   "execution_count": 11,
   "metadata": {},
   "outputs": [
    {
     "name": "stdout",
     "output_type": "stream",
     "text": [
      "Enter an expression: x**2 -9 * x\n",
      "x⋅(x - 9)\n"
     ]
    }
   ],
   "source": [
    "%run factor_finder.py"
   ]
  },
  {
   "cell_type": "code",
   "execution_count": 12,
   "metadata": {},
   "outputs": [
    {
     "name": "stdout",
     "output_type": "stream",
     "text": [
      "Enter an expression: x**2 - 7*x + 10 \n",
      "(x - 5)⋅(x - 2)\n"
     ]
    }
   ],
   "source": [
    "%run factor_finder.py"
   ]
  },
  {
   "cell_type": "code",
   "execution_count": 13,
   "metadata": {},
   "outputs": [
    {
     "name": "stdout",
     "output_type": "stream",
     "text": [
      "Enter an expression: x**2 - 9\n",
      "(x - 3)⋅(x + 3)\n"
     ]
    }
   ],
   "source": [
    "%run factor_finder.py"
   ]
  },
  {
   "cell_type": "code",
   "execution_count": 14,
   "metadata": {},
   "outputs": [
    {
     "name": "stdout",
     "output_type": "stream",
     "text": [
      "Enter an expression: x**2 + 3*x + x**3 + 2x \n",
      "Invalid expression\n"
     ]
    }
   ],
   "source": [
    "%run factor_finder.py"
   ]
  }
 ],
 "metadata": {
  "kernelspec": {
   "display_name": "Python 3",
   "language": "python",
   "name": "python3"
  },
  "language_info": {
   "codemirror_mode": {
    "name": "ipython",
    "version": 3
   },
   "file_extension": ".py",
   "mimetype": "text/x-python",
   "name": "python",
   "nbconvert_exporter": "python",
   "pygments_lexer": "ipython3",
   "version": "3.6.5"
  }
 },
 "nbformat": 4,
 "nbformat_minor": 2
}
