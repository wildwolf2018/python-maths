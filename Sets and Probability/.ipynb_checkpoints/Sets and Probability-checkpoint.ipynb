{
 "cells": [
  {
   "cell_type": "markdown",
   "metadata": {},
   "source": [
    "# Chapter 5"
   ]
  },
  {
   "cell_type": "markdown",
   "metadata": {},
   "source": [
    "## Sets and Probability"
   ]
  },
  {
   "cell_type": "markdown",
   "metadata": {},
   "source": [
    "### Excercise 1 -  Using Venn Diagrams to Visualize Relationships Between Sets "
   ]
  },
  {
   "cell_type": "code",
   "execution_count": 3,
   "metadata": {},
   "outputs": [],
   "source": [
    "%matplotlib inline"
   ]
  },
  {
   "cell_type": "code",
   "execution_count": 41,
   "metadata": {
    "scrolled": true
   },
   "outputs": [
    {
     "name": "stdout",
     "output_type": "stream",
     "text": [
      "Enter the file name: survey.csv\n"
     ]
    },
    {
     "data": {
      "image/png": "[encoded data removed]",
      "text/plain": [
       "<Figure size 432x288 with 1 Axes>"
      ]
     },
     "metadata": {},
     "output_type": "display_data"
    }
   ],
   "source": [
    "%run venn-diagram.py"
   ]
  },
  {
   "cell_type": "markdown",
   "metadata": {},
   "source": [
    "### Excercise 2 - Law of Large Numbers"
   ]
  },
  {
   "cell_type": "code",
   "execution_count": 7,
   "metadata": {
    "scrolled": true
   },
   "outputs": [
    {
     "name": "stdout",
     "output_type": "stream",
     "text": [
      "Expected value = 3.50\n",
      "Trials: 100 Trial average 3.35\n",
      "Trials: 1000 Trial average 3.475\n",
      "Trials: 10000 Trial average 3.4892\n",
      "Trials: 100000 Trial average 3.50532\n",
      "Trials: 500000 Trial average 3.500924\n"
     ]
    }
   ],
   "source": [
    "%run large_numbers_law.py"
   ]
  },
  {
   "cell_type": "markdown",
   "metadata": {},
   "source": [
    "### Excercise 3 - How Many Tosses Before You Run Out of Money? "
   ]
  },
  {
   "cell_type": "code",
   "execution_count": 8,
   "metadata": {},
   "outputs": [
    {
     "name": "stdout",
     "output_type": "stream",
     "text": [
      "Enter your starting amount: 10\n",
      "Heads: Current amount: 11.0\n",
      "Tails: Current amount: 9.5\n",
      "Heads: Current amount: 10.5\n",
      "Heads: Current amount: 11.5\n",
      "Tails: Current amount: 10.0\n",
      "Heads: Current amount: 11.0\n",
      "Heads: Current amount: 12.0\n",
      "Heads: Current amount: 13.0\n",
      "Tails: Current amount: 11.5\n",
      "Tails: Current amount: 10.0\n",
      "Heads: Current amount: 11.0\n",
      "Tails: Current amount: 9.5\n",
      "Tails: Current amount: 8.0\n",
      "Tails: Current amount: 6.5\n",
      "Tails: Current amount: 5.0\n",
      "Heads: Current amount: 6.0\n",
      "Tails: Current amount: 4.5\n",
      "Heads: Current amount: 5.5\n",
      "Tails: Current amount: 4.0\n",
      "Heads: Current amount: 5.0\n",
      "Tails: Current amount: 3.5\n",
      "Tails: Current amount: 2.0\n",
      "Tails: Current amount: 0.5\n",
      "Tails: Current amount: -1.0\n",
      "Game over :( Current amount -1.0. Coin tosses: 24\n"
     ]
    }
   ],
   "source": [
    "%run coin_tosses.py"
   ]
  },
  {
   "cell_type": "markdown",
   "metadata": {},
   "source": [
    "### Excercise 4 -  Shuffling a Deck of Cards"
   ]
  },
  {
   "cell_type": "code",
   "execution_count": null,
   "metadata": {},
   "outputs": [],
   "source": []
  }
 ],
 "metadata": {
  "kernelspec": {
   "display_name": "Python 3",
   "language": "python",
   "name": "python3"
  },
  "language_info": {
   "codemirror_mode": {
    "name": "ipython",
    "version": 3
   },
   "file_extension": ".py",
   "mimetype": "text/x-python",
   "name": "python",
   "nbconvert_exporter": "python",
   "pygments_lexer": "ipython3",
   "version": "3.6.5"
  }
 },
 "nbformat": 4,
 "nbformat_minor": 2
}
